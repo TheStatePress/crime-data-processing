{
 "cells": [
  {
   "cell_type": "code",
   "execution_count": 14,
   "metadata": {
    "scrolled": false
   },
   "outputs": [],
   "source": [
    "import pandas as pd\n",
    "import csv"
   ]
  },
  {
   "cell_type": "code",
   "execution_count": 15,
   "metadata": {},
   "outputs": [],
   "source": [
    "jan18 = pd.read_csv(\"tabula-January2018.csv\")\n",
    "# we'll try using pandas later"
   ]
  },
  {
   "cell_type": "code",
   "execution_count": 16,
   "metadata": {
    "scrolled": true
   },
   "outputs": [],
   "source": [
    "# read data file\n",
    "jan18file = open('tabula-January2018.csv')\n",
    "jan18reader = csv.reader(jan18file)\n",
    "jan18data = list(jan18reader)"
   ]
  },
  {
   "cell_type": "code",
   "execution_count": 17,
   "metadata": {},
   "outputs": [],
   "source": [
    "# remove empty and header rows\n",
    "jan18cleandata = []\n",
    "for row in jan18data:\n",
    "    if row[0] and row[1] and row[0] != \"Incident #\":\n",
    "        jan18cleandata.append(row[:10])"
   ]
  },
  {
   "cell_type": "code",
   "execution_count": 18,
   "metadata": {},
   "outputs": [],
   "source": [
    "# write cleaned file\n",
    "outputFile = open('output-January2018.csv', 'w', newline='')\n",
    "outputWriter = csv.writer(outputFile)\n",
    "outputWriter.writerow(['Incident #', 'Date Reported', 'Time Reported', 'Start Date', 'Start Time', 'End Date', 'End Time', 'Description', 'Location', 'Disposition'])\n",
    "for row in jan18cleandata:\n",
    "    outputWriter.writerow(row)\n",
    "outputFile.close()"
   ]
  },
  {
   "cell_type": "code",
   "execution_count": null,
   "metadata": {},
   "outputs": [],
   "source": []
  }
 ],
 "metadata": {
  "kernelspec": {
   "display_name": "Python 3",
   "language": "python",
   "name": "python3"
  },
  "language_info": {
   "codemirror_mode": {
    "name": "ipython",
    "version": 3
   },
   "file_extension": ".py",
   "mimetype": "text/x-python",
   "name": "python",
   "nbconvert_exporter": "python",
   "pygments_lexer": "ipython3",
   "version": "3.6.5"
  }
 },
 "nbformat": 4,
 "nbformat_minor": 2
}
